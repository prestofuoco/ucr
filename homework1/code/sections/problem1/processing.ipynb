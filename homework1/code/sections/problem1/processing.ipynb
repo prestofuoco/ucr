{
 "cells": [
  {
   "cell_type": "markdown",
   "id": "90b95326",
   "metadata": {},
   "source": [
    "## python initials\n",
    "here, we use skimage's imread to get read the image and obtain values"
   ]
  },
  {
   "cell_type": "code",
   "execution_count": 19,
   "id": "18c79e11",
   "metadata": {},
   "outputs": [
    {
     "name": "stdout",
     "output_type": "stream",
     "text": [
      "height, width: (4016, 6020) as type float32\n",
      "bits per pixel: 32\n"
     ]
    }
   ],
   "source": [
    "import numpy as np\n",
    "from skimage.io import imread\n",
    "\n",
    "image = imread(\"../../../data/Thayer.tiff\").astype(np.float32)\n",
    "print(\"height, width:\", image.shape, \"as type\", image.dtype)\n",
    "print(\"bits per pixel:\", image.itemsize * 8)"
   ]
  },
  {
   "cell_type": "markdown",
   "id": "8d3e0a7a",
   "metadata": {},
   "source": [
    "we can then convert this image into a double-precision array"
   ]
  },
  {
   "cell_type": "code",
   "execution_count": 20,
   "id": "b0049218",
   "metadata": {},
   "outputs": [
    {
     "name": "stdout",
     "output_type": "stream",
     "text": [
      "bits per pixel: 64\n"
     ]
    }
   ],
   "source": [
    "image = image.astype(np.float64)\n",
    "print(\"bits per pixel:\", image.itemsize * 8)"
   ]
  },
  {
   "cell_type": "markdown",
   "id": "9ac86f99",
   "metadata": {},
   "source": [
    "## linearization\n",
    "we can apply a linear transformation to the image so that the value \\<black> is mapped to 0, and the value \\<white> is mapped to 1. we then clip the negative values to 0, and values greater than 1 to 1"
   ]
  },
  {
   "cell_type": "code",
   "execution_count": 25,
   "id": "01d87059",
   "metadata": {},
   "outputs": [
    {
     "name": "stdout",
     "output_type": "stream",
     "text": [
      "5622.0\n"
     ]
    }
   ],
   "source": [
    "print(image[1,1])\n",
    "# np.clip"
   ]
  }
 ],
 "metadata": {
  "kernelspec": {
   "display_name": "Python 3",
   "language": "python",
   "name": "python3"
  },
  "language_info": {
   "codemirror_mode": {
    "name": "ipython",
    "version": 3
   },
   "file_extension": ".py",
   "mimetype": "text/x-python",
   "name": "python",
   "nbconvert_exporter": "python",
   "pygments_lexer": "ipython3",
   "version": "3.13.0"
  }
 },
 "nbformat": 4,
 "nbformat_minor": 5
}

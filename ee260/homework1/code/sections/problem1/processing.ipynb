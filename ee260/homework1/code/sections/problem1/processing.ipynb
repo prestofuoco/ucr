{
 "cells": [
  {
   "cell_type": "code",
   "execution_count": 37,
   "id": "2045ba46",
   "metadata": {},
   "outputs": [],
   "source": [
    "# previously recorded values from the reconnaissance run of dcraw\n",
    "black = 2044\n",
    "white = 16383\n",
    "r_scale = 2.165039\n",
    "g_scale = 1.0\n",
    "b_scale = 1.643555"
   ]
  },
  {
   "cell_type": "markdown",
   "id": "90b95326",
   "metadata": {},
   "source": [
    "## python initials\n",
    "here, we use skimage's imread to get read the image and obtain values"
   ]
  },
  {
   "cell_type": "code",
   "execution_count": 38,
   "id": "18c79e11",
   "metadata": {},
   "outputs": [
    {
     "name": "stdout",
     "output_type": "stream",
     "text": [
      "height, width: (4016, 6020) as type float32\n",
      "bits per pixel: 32\n"
     ]
    }
   ],
   "source": [
    "import numpy as np\n",
    "from skimage.io import imread\n",
    "\n",
    "image = imread(\"../../../data/Thayer.tiff\").astype(np.float32)\n",
    "print(\"height, width:\", image.shape, \"as type\", image.dtype)\n",
    "print(\"bits per pixel:\", image.itemsize * 8)"
   ]
  },
  {
   "cell_type": "markdown",
   "id": "8d3e0a7a",
   "metadata": {},
   "source": [
    "we can then convert this image into a double-precision array"
   ]
  },
  {
   "cell_type": "code",
   "execution_count": 39,
   "id": "b0049218",
   "metadata": {},
   "outputs": [
    {
     "name": "stdout",
     "output_type": "stream",
     "text": [
      "bits per pixel: 64\n"
     ]
    }
   ],
   "source": [
    "image = image.astype(np.float64)\n",
    "print(\"bits per pixel:\", image.itemsize * 8)"
   ]
  },
  {
   "cell_type": "markdown",
   "id": "9ac86f99",
   "metadata": {},
   "source": [
    "## linearization\n",
    "we can apply a linear transformation to the image so that the value \\<black> is mapped to 0, and the value \\<white> is mapped to 1. we then clip the negative values to 0, and values greater than 1 to 1"
   ]
  },
  {
   "cell_type": "code",
   "execution_count": 40,
   "id": "01d87059",
   "metadata": {},
   "outputs": [
    {
     "name": "stdout",
     "output_type": "stream",
     "text": [
      "[[3429. 6292. 3911. ... 6738. 3028. 5556.]\n",
      " [6061. 5622. 7062. ... 5356. 6064. 5850.]\n",
      " [3386. 6240. 3714. ... 6249. 3473. 6036.]\n",
      " ...\n",
      " [2443. 2300. 2333. ... 2278. 2343. 2269.]\n",
      " [2246. 2400. 2189. ... 2206. 2061. 2186.]\n",
      " [2154. 2237. 2178. ... 2443. 2119. 2291.]]\n",
      "original min/max value: 255.0 15305.0\n",
      "post transformation min/max value: -0.12476462793779204 0.9248204198340191\n",
      "post clip min/max value: 0.0 0.9248204198340191\n",
      "[[0.09658972 0.29625497 0.13020434 ... 0.32735895 0.06862403 0.24492642]\n",
      " [0.28014506 0.24952926 0.34995467 ... 0.23097845 0.28035428 0.26542995]\n",
      " [0.09359091 0.2926285  0.11646558 ... 0.29325615 0.09965827 0.27840156]\n",
      " ...\n",
      " [0.02782621 0.01785341 0.02015482 ... 0.01631913 0.02085222 0.01569147]\n",
      " [0.01408745 0.02482739 0.01011228 ... 0.01129786 0.00118558 0.00990306]\n",
      " [0.00767139 0.01345979 0.00934514 ... 0.02782621 0.00523049 0.01722575]]\n"
     ]
    }
   ],
   "source": [
    "print(image)\n",
    "print(\"original min/max value:\", image.min(), image.max())\n",
    "\n",
    "image = (image - (black)) / (white - black)     # shift min to 0\n",
    "print(\"post transformation min/max value:\", image.min(), image.max())\n",
    "\n",
    "image = np.clip(image, 0, 1)  # clip to [0, 1]\n",
    "print(\"post clip min/max value:\", image.min(), image.max())\n",
    "print(image)"
   ]
  }
 ],
 "metadata": {
  "kernelspec": {
   "display_name": "Python 3",
   "language": "python",
   "name": "python3"
  },
  "language_info": {
   "codemirror_mode": {
    "name": "ipython",
    "version": 3
   },
   "file_extension": ".py",
   "mimetype": "text/x-python",
   "name": "python",
   "nbconvert_exporter": "python",
   "pygments_lexer": "ipython3",
   "version": "3.13.0"
  }
 },
 "nbformat": 4,
 "nbformat_minor": 5
}
